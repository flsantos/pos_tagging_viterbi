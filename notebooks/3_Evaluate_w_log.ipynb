{
 "cells": [
  {
   "cell_type": "code",
   "execution_count": 1,
   "metadata": {},
   "outputs": [],
   "source": [
    "import pickle\n",
    "from sklearn.model_selection import KFold\n",
    "import numpy as np\n",
    "import logging\n",
    "import datetime"
   ]
  },
  {
   "cell_type": "code",
   "execution_count": 50,
   "metadata": {},
   "outputs": [],
   "source": [
    "from viterbi import *"
   ]
  },
  {
   "cell_type": "code",
   "execution_count": 56,
   "metadata": {},
   "outputs": [],
   "source": [
    "import importlib\n",
    "import viterbi\n",
    "importlib.reload(viterbi)\n",
    "from viterbi_log import *"
   ]
  },
  {
   "cell_type": "markdown",
   "metadata": {},
   "source": [
    "#### Leitura da base pre processada"
   ]
  },
  {
   "cell_type": "code",
   "execution_count": 4,
   "metadata": {},
   "outputs": [],
   "source": [
    "with open('preprocessed_CETEN_v2.pkl', 'rb') as input:\n",
    "    phrases = pickle.load(input)"
   ]
  },
  {
   "cell_type": "code",
   "execution_count": 49,
   "metadata": {},
   "outputs": [
    {
     "data": {
      "text/plain": [
       "(1560, 1532, 1692, 5.031573992520862)"
      ]
     },
     "execution_count": 49,
     "metadata": {},
     "output_type": "execute_result"
    }
   ],
   "source": [
    "from sklearn.model_selection import train_test_split\n",
    "phrases_train , phrases_test = train_test_split(phrases[:100000],test_size=0.2, random_state=42)\n",
    "word_freq, word_counts, tags_counter, allowed_tags = get_train_counts(phrases_train)\n",
    "e_prob = get_emission_probs(word_freq, tags_counter)\n",
    "q_prob = get_transition_probs(phrases_train,word_freq,tags_counter)\n",
    "evaluate_viterbi(word_freq, word_counts, allowed_tags, e_prob, q_prob, phrases_test,sample=100)"
   ]
  },
  {
   "cell_type": "code",
   "execution_count": 52,
   "metadata": {},
   "outputs": [
    {
     "data": {
      "text/plain": [
       "(1560, 1532, 1692, 5.379865252700256)"
      ]
     },
     "execution_count": 52,
     "metadata": {},
     "output_type": "execute_result"
    }
   ],
   "source": [
    "from sklearn.model_selection import train_test_split\n",
    "phrases_train , phrases_test = train_test_split(phrases[:100000],test_size=0.2, random_state=42)\n",
    "word_freq, word_counts, tags_counter, allowed_tags = get_train_counts(phrases_train)\n",
    "e_prob = get_emission_probs(word_freq, tags_counter)\n",
    "q_prob = get_transition_probs(phrases_train,word_freq,tags_counter)\n",
    "evaluate_viterbi(word_freq, word_counts, allowed_tags, e_prob, q_prob, phrases_test,sample=100)"
   ]
  },
  {
   "cell_type": "code",
   "execution_count": 66,
   "metadata": {},
   "outputs": [],
   "source": []
  },
  {
   "cell_type": "code",
   "execution_count": 53,
   "metadata": {},
   "outputs": [],
   "source": [
    "logging.basicConfig(filename='evaluation.log', level=logging.INFO)\n",
    "def log(msg):\n",
    "    logging.info(datetime.datetime.now().strftime(\"%d.%b %Y %H:%M:%S\")+ ': '+str(msg))"
   ]
  },
  {
   "cell_type": "code",
   "execution_count": 54,
   "metadata": {},
   "outputs": [],
   "source": [
    "kf = KFold(n_splits=5, random_state=42, shuffle=True)"
   ]
  },
  {
   "cell_type": "code",
   "execution_count": 55,
   "metadata": {},
   "outputs": [
    {
     "name": "stdout",
     "output_type": "stream",
     "text": [
      "CV Round 1\n",
      "Train test split: 1354480,338621\n",
      "Counting word frequency...\n",
      "Calculating emission probabilities...\n",
      "Calculating transition probabilities...\n",
      "Viterbi...\n",
      "Total of 338621 phrases to run.\n"
     ]
    },
    {
     "ename": "KeyError",
     "evalue": "(186, None, None)",
     "output_type": "error",
     "traceback": [
      "\u001b[1;31m---------------------------------------------------------------------------\u001b[0m",
      "\u001b[1;31mKeyError\u001b[0m                                  Traceback (most recent call last)",
      "\u001b[1;32m<ipython-input-55-301259f3f261>\u001b[0m in \u001b[0;36m<module>\u001b[1;34m()\u001b[0m\n\u001b[0;32m     26\u001b[0m     \u001b[0mprint\u001b[0m\u001b[1;33m(\u001b[0m\u001b[1;34m'Viterbi...'\u001b[0m\u001b[1;33m)\u001b[0m\u001b[1;33m\u001b[0m\u001b[0m\n\u001b[0;32m     27\u001b[0m     \u001b[0mlog\u001b[0m\u001b[1;33m(\u001b[0m\u001b[1;34m'Viterbi...'\u001b[0m\u001b[1;33m)\u001b[0m\u001b[1;33m\u001b[0m\u001b[0m\n\u001b[1;32m---> 28\u001b[1;33m     \u001b[0mcorretas_viterbi\u001b[0m\u001b[1;33m,\u001b[0m \u001b[0mcorretas_baseline\u001b[0m\u001b[1;33m,\u001b[0m \u001b[0mtotais\u001b[0m\u001b[1;33m,\u001b[0m \u001b[0melapsed\u001b[0m \u001b[1;33m=\u001b[0m \u001b[0mevaluate_viterbi\u001b[0m\u001b[1;33m(\u001b[0m\u001b[0mword_freq\u001b[0m\u001b[1;33m,\u001b[0m                                                                            \u001b[0mword_counts\u001b[0m\u001b[1;33m,\u001b[0m                                                                            \u001b[0mallowed_tags\u001b[0m\u001b[1;33m,\u001b[0m                                                                            \u001b[0me_prob\u001b[0m\u001b[1;33m,\u001b[0m \u001b[0mq_prob\u001b[0m\u001b[1;33m,\u001b[0m                                                                            \u001b[0mphrases_test\u001b[0m\u001b[1;33m,\u001b[0m                                                                            \u001b[0msample\u001b[0m\u001b[1;33m=\u001b[0m\u001b[1;33m-\u001b[0m\u001b[1;36m1\u001b[0m\u001b[1;33m,\u001b[0m                                                                            \u001b[0mlog_fn\u001b[0m\u001b[1;33m=\u001b[0m\u001b[0mlog\u001b[0m\u001b[1;33m)\u001b[0m\u001b[1;33m\u001b[0m\u001b[0m\n\u001b[0m\u001b[0;32m     29\u001b[0m \u001b[1;33m\u001b[0m\u001b[0m\n\u001b[0;32m     30\u001b[0m     \u001b[0mprint\u001b[0m\u001b[1;33m(\u001b[0m\u001b[0mcorretas_viterbi\u001b[0m\u001b[1;33m,\u001b[0m \u001b[0mcorretas_baseline\u001b[0m\u001b[1;33m,\u001b[0m \u001b[0mtotais\u001b[0m\u001b[1;33m,\u001b[0m \u001b[0melapsed\u001b[0m\u001b[1;33m)\u001b[0m\u001b[1;33m\u001b[0m\u001b[0m\n",
      "\u001b[1;32m~\\USP\\LinguisticaComputacional\\viterbi_log.py\u001b[0m in \u001b[0;36mevaluate_viterbi\u001b[1;34m(word_freq, word_counts, allowed_tags, e_prob, q_prob, phrases_test, sample, log_fn)\u001b[0m\n\u001b[0;32m    190\u001b[0m \u001b[1;33m\u001b[0m\u001b[0m\n\u001b[0;32m    191\u001b[0m         \u001b[1;31m## Algorithm...\u001b[0m\u001b[1;33m\u001b[0m\u001b[1;33m\u001b[0m\u001b[0m\n\u001b[1;32m--> 192\u001b[1;33m         \u001b[0mtagged\u001b[0m \u001b[1;33m=\u001b[0m \u001b[0mviterbi\u001b[0m\u001b[1;33m(\u001b[0m\u001b[1;33m[\u001b[0m\u001b[0mprep_sentence\u001b[0m\u001b[1;33m(\u001b[0m\u001b[0ms\u001b[0m\u001b[1;33m,\u001b[0m\u001b[0mword_counts\u001b[0m\u001b[1;33m)\u001b[0m\u001b[1;33m]\u001b[0m\u001b[1;33m,\u001b[0m \u001b[0me_prob\u001b[0m\u001b[1;33m,\u001b[0m \u001b[0mq_prob\u001b[0m\u001b[1;33m,\u001b[0m \u001b[0mallowed_tags\u001b[0m\u001b[1;33m)\u001b[0m\u001b[1;33m[\u001b[0m\u001b[1;36m0\u001b[0m\u001b[1;33m]\u001b[0m\u001b[1;33m\u001b[0m\u001b[0m\n\u001b[0m\u001b[0;32m    193\u001b[0m         \u001b[1;32mfor\u001b[0m \u001b[0mtk_golden\u001b[0m\u001b[1;33m,\u001b[0m \u001b[0mtk_pred\u001b[0m \u001b[1;32min\u001b[0m \u001b[0mzip\u001b[0m\u001b[1;33m(\u001b[0m\u001b[0ms\u001b[0m\u001b[1;33m,\u001b[0m\u001b[0mtagged\u001b[0m\u001b[1;33m)\u001b[0m\u001b[1;33m:\u001b[0m\u001b[1;33m\u001b[0m\u001b[0m\n\u001b[0;32m    194\u001b[0m             \u001b[0mtotais\u001b[0m\u001b[1;33m+=\u001b[0m\u001b[1;36m1\u001b[0m\u001b[1;33m\u001b[0m\u001b[0m\n",
      "\u001b[1;32m~\\USP\\LinguisticaComputacional\\viterbi_log.py\u001b[0m in \u001b[0;36mviterbi\u001b[1;34m(sents, e_prob, q_prob, allowed_tags)\u001b[0m\n\u001b[0;32m    146\u001b[0m         \u001b[0mtags\u001b[0m\u001b[1;33m.\u001b[0m\u001b[0mappend\u001b[0m\u001b[1;33m(\u001b[0m\u001b[0mmax_u_tag\u001b[0m\u001b[1;33m)\u001b[0m\u001b[1;33m\u001b[0m\u001b[0m\n\u001b[0;32m    147\u001b[0m         \u001b[1;32mfor\u001b[0m \u001b[0mi\u001b[0m\u001b[1;33m,\u001b[0m\u001b[0mk\u001b[0m \u001b[1;32min\u001b[0m \u001b[0menumerate\u001b[0m\u001b[1;33m(\u001b[0m\u001b[0mrange\u001b[0m\u001b[1;33m(\u001b[0m\u001b[0mn\u001b[0m\u001b[1;33m-\u001b[0m\u001b[1;36m2\u001b[0m\u001b[1;33m,\u001b[0m\u001b[1;36m0\u001b[0m\u001b[1;33m,\u001b[0m \u001b[1;33m-\u001b[0m\u001b[1;36m1\u001b[0m\u001b[1;33m)\u001b[0m\u001b[1;33m)\u001b[0m\u001b[1;33m:\u001b[0m\u001b[1;33m\u001b[0m\u001b[0m\n\u001b[1;32m--> 148\u001b[1;33m             \u001b[0mtags\u001b[0m\u001b[1;33m.\u001b[0m\u001b[0mappend\u001b[0m\u001b[1;33m(\u001b[0m\u001b[0mbp\u001b[0m\u001b[1;33m[\u001b[0m\u001b[1;33m(\u001b[0m\u001b[0mk\u001b[0m\u001b[1;33m+\u001b[0m\u001b[1;36m2\u001b[0m\u001b[1;33m,\u001b[0m \u001b[0mtags\u001b[0m\u001b[1;33m[\u001b[0m\u001b[0mi\u001b[0m\u001b[1;33m+\u001b[0m\u001b[1;36m1\u001b[0m\u001b[1;33m]\u001b[0m\u001b[1;33m,\u001b[0m \u001b[0mtags\u001b[0m\u001b[1;33m[\u001b[0m\u001b[0mi\u001b[0m\u001b[1;33m]\u001b[0m\u001b[1;33m)\u001b[0m\u001b[1;33m]\u001b[0m\u001b[1;33m)\u001b[0m\u001b[1;33m\u001b[0m\u001b[0m\n\u001b[0m\u001b[0;32m    149\u001b[0m \u001b[1;33m\u001b[0m\u001b[0m\n\u001b[0;32m    150\u001b[0m         \u001b[0mtags\u001b[0m \u001b[1;33m=\u001b[0m \u001b[0mlist\u001b[0m\u001b[1;33m(\u001b[0m\u001b[0mreversed\u001b[0m\u001b[1;33m(\u001b[0m\u001b[0mtags\u001b[0m\u001b[1;33m)\u001b[0m\u001b[1;33m)\u001b[0m\u001b[1;33m\u001b[0m\u001b[0m\n",
      "\u001b[1;31mKeyError\u001b[0m: (186, None, None)"
     ]
    }
   ],
   "source": [
    "phrases_data = np.array(phrases)\n",
    "round = 0\n",
    "for train_index, test_index in kf.split(phrases_data):\n",
    "    round=round+1\n",
    "    print('CV Round '+str(round))\n",
    "    log('CV Round '+str(round))\n",
    "    \n",
    "    print('Train test split: '+ str(len(train_index))+','+str(len(test_index)))\n",
    "    log('Train test split: '+ str(len(train_index))+','+str(len(test_index)))\n",
    "    phrases_train = phrases_data[train_index]\n",
    "    phrases_test = phrases_data[test_index]\n",
    "    \n",
    "    \n",
    "    print('Counting word frequency...')\n",
    "    log('Counting word frequency...')\n",
    "    word_freq, word_counts, tags_counter, allowed_tags = get_train_counts(phrases_train)\n",
    "    \n",
    "    \n",
    "    print('Calculating emission probabilities...')\n",
    "    log('Calculating emission probabilities...')\n",
    "    e_prob = get_emission_probs(word_freq, tags_counter)\n",
    "    print('Calculating transition probabilities...')\n",
    "    log('Calculating transition probabilities...')\n",
    "    q_prob = get_transition_probs(phrases_train,word_freq,tags_counter)\n",
    "    \n",
    "    print('Viterbi...')\n",
    "    log('Viterbi...')\n",
    "    corretas_viterbi, corretas_baseline, totais, elapsed = evaluate_viterbi(word_freq,\\\n",
    "                                                                            word_counts,\\\n",
    "                                                                            allowed_tags,\\\n",
    "                                                                            e_prob, q_prob,\\\n",
    "                                                                            phrases_test,\\\n",
    "                                                                            sample=-1,\\\n",
    "                                                                            log_fn=log)\n",
    "    \n",
    "    print(corretas_viterbi, corretas_baseline, totais, elapsed)\n",
    "    log(str([corretas_viterbi, corretas_baseline, totais, elapsed]))\n",
    "    \n",
    "    print(\"\")\n",
    "    log(\"\")\n",
    "    \n",
    "logging.shutdown()"
   ]
  }
 ],
 "metadata": {
  "kernelspec": {
   "display_name": "Python 3",
   "language": "python",
   "name": "python3"
  },
  "language_info": {
   "codemirror_mode": {
    "name": "ipython",
    "version": 3
   },
   "file_extension": ".py",
   "mimetype": "text/x-python",
   "name": "python",
   "nbconvert_exporter": "python",
   "pygments_lexer": "ipython3",
   "version": "3.6.5"
  }
 },
 "nbformat": 4,
 "nbformat_minor": 2
}
