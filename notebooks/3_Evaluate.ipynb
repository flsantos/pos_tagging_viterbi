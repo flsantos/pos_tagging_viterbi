{
 "cells": [
  {
   "cell_type": "code",
   "execution_count": 11,
   "metadata": {},
   "outputs": [],
   "source": [
    "import pickle\n",
    "from sklearn.model_selection import KFold\n",
    "import numpy as np\n",
    "import logging\n",
    "import datetime"
   ]
  },
  {
   "cell_type": "code",
   "execution_count": 36,
   "metadata": {},
   "outputs": [],
   "source": [
    "from viterbi import *"
   ]
  },
  {
   "cell_type": "code",
   "execution_count": 37,
   "metadata": {},
   "outputs": [],
   "source": [
    "import importlib\n",
    "import viterbi\n",
    "importlib.reload(viterbi)\n",
    "from viterbi import *"
   ]
  },
  {
   "cell_type": "markdown",
   "metadata": {},
   "source": [
    "#### Leitura da base pre processada"
   ]
  },
  {
   "cell_type": "code",
   "execution_count": 4,
   "metadata": {},
   "outputs": [],
   "source": [
    "with open('preprocessed_CETEN_v2.pkl', 'rb') as input:\n",
    "    phrases = pickle.load(input)"
   ]
  },
  {
   "cell_type": "code",
   "execution_count": 5,
   "metadata": {},
   "outputs": [],
   "source": [
    "#phrases_train , phrases_test = train_test_split(phrases[:10000],test_size=0.2, random_state=42)\n",
    "#word_freq, word_counts, tags_counter, allowed_tags = get_train_counts(phrases_train)\n",
    "#e_prob = get_emission_probs(word_freq, tags_counter)\n",
    "#q_prob = get_transition_probs(phrases_train,word_freq,tags_counter)\n",
    "#evaluate_viterbi(word_freq, word_counts, allowed_tags, e_prob, q_prob, phrases_test,sample=100)"
   ]
  },
  {
   "cell_type": "code",
   "execution_count": 8,
   "metadata": {},
   "outputs": [],
   "source": [
    "logging.basicConfig(filename='evaluation.log', level=logging.INFO)\n",
    "def log(msg):\n",
    "    logging.info(datetime.datetime.now().strftime(\"%d.%b %Y %H:%M:%S\")+ ': '+str(msg))"
   ]
  },
  {
   "cell_type": "code",
   "execution_count": 40,
   "metadata": {},
   "outputs": [],
   "source": [
    "kf = KFold(n_splits=5, random_state=42, shuffle=True)"
   ]
  },
  {
   "cell_type": "code",
   "execution_count": 41,
   "metadata": {
    "scrolled": false
   },
   "outputs": [
    {
     "name": "stdout",
     "output_type": "stream",
     "text": [
      "CV Round 1\n",
      "Train test split: 1354480,338621\n",
      "Counting word frequency...\n",
      "Calculating emission probabilities...\n",
      "Calculating transition probabilities...\n",
      "Viterbi...\n",
      "Total of 338621 phrases to run.\n",
      "50000 out of 338621 (14%)\n",
      "100000 out of 338621 (29%)\n",
      "150000 out of 338621 (44%)\n",
      "200000 out of 338621 (59%)\n",
      "250000 out of 338621 (73%)\n",
      "300000 out of 338621 (88%)\n",
      "5297854 5204619 5502802 18667.32522177976\n",
      "\n",
      "CV Round 2\n",
      "Train test split: 1354481,338620\n",
      "Counting word frequency...\n",
      "Calculating emission probabilities...\n",
      "Calculating transition probabilities...\n",
      "Viterbi...\n",
      "Total of 338620 phrases to run.\n",
      "50000 out of 338620 (14%)\n",
      "100000 out of 338620 (29%)\n",
      "150000 out of 338620 (44%)\n",
      "200000 out of 338620 (59%)\n",
      "250000 out of 338620 (73%)\n",
      "300000 out of 338620 (88%)\n",
      "5294017 5201878 5499002 18213.162536014723\n",
      "\n",
      "CV Round 3\n",
      "Train test split: 1354481,338620\n",
      "Counting word frequency...\n",
      "Calculating emission probabilities...\n",
      "Calculating transition probabilities...\n",
      "Viterbi...\n",
      "Total of 338620 phrases to run.\n",
      "50000 out of 338620 (14%)\n",
      "100000 out of 338620 (29%)\n",
      "150000 out of 338620 (44%)\n",
      "200000 out of 338620 (59%)\n",
      "250000 out of 338620 (73%)\n",
      "300000 out of 338620 (88%)\n",
      "5317937 5224428 5523073 17992.209697569662\n",
      "\n",
      "CV Round 4\n",
      "Train test split: 1354481,338620\n",
      "Counting word frequency...\n",
      "Calculating emission probabilities...\n",
      "Calculating transition probabilities...\n",
      "Viterbi...\n",
      "Total of 338620 phrases to run.\n",
      "50000 out of 338620 (14%)\n",
      "100000 out of 338620 (29%)\n",
      "150000 out of 338620 (44%)\n",
      "200000 out of 338620 (59%)\n",
      "250000 out of 338620 (73%)\n",
      "300000 out of 338620 (88%)\n",
      "5313382 5219220 5517860 17883.34435576571\n",
      "\n",
      "CV Round 5\n",
      "Train test split: 1354481,338620\n",
      "Counting word frequency...\n",
      "Calculating emission probabilities...\n",
      "Calculating transition probabilities...\n",
      "Viterbi...\n",
      "Total of 338620 phrases to run.\n",
      "50000 out of 338620 (14%)\n",
      "100000 out of 338620 (29%)\n",
      "150000 out of 338620 (44%)\n",
      "200000 out of 338620 (59%)\n",
      "250000 out of 338620 (73%)\n",
      "300000 out of 338620 (88%)\n",
      "5292300 5199382 5497557 17980.76313091071\n",
      "\n"
     ]
    }
   ],
   "source": [
    "phrases_data = np.array(phrases)\n",
    "round = 0\n",
    "for train_index, test_index in kf.split(phrases_data):\n",
    "    round=round+1\n",
    "    print('CV Round '+str(round))\n",
    "    log('CV Round '+str(round))\n",
    "    \n",
    "    print('Train test split: '+ str(len(train_index))+','+str(len(test_index)))\n",
    "    log('Train test split: '+ str(len(train_index))+','+str(len(test_index)))\n",
    "    phrases_train = phrases_data[train_index]\n",
    "    phrases_test = phrases_data[test_index]\n",
    "    \n",
    "    \n",
    "    print('Counting word frequency...')\n",
    "    log('Counting word frequency...')\n",
    "    word_freq, word_counts, tags_counter, allowed_tags = get_train_counts(phrases_train)\n",
    "    \n",
    "    \n",
    "    print('Calculating emission probabilities...')\n",
    "    log('Calculating emission probabilities...')\n",
    "    e_prob = get_emission_probs(word_freq, tags_counter)\n",
    "    print('Calculating transition probabilities...')\n",
    "    log('Calculating transition probabilities...')\n",
    "    q_prob = get_transition_probs(phrases_train,word_freq,tags_counter)\n",
    "    \n",
    "    print('Viterbi...')\n",
    "    log('Viterbi...')\n",
    "    corretas_viterbi, corretas_baseline, totais, elapsed = evaluate_viterbi(word_freq,\\\n",
    "                                                                            word_counts,\\\n",
    "                                                                            allowed_tags,\\\n",
    "                                                                            e_prob, q_prob,\\\n",
    "                                                                            phrases_test,\\\n",
    "                                                                            sample=-1,\\\n",
    "                                                                            log_fn=log)\n",
    "    \n",
    "    print(corretas_viterbi, corretas_baseline, totais, elapsed)\n",
    "    log(str([corretas_viterbi, corretas_baseline, totais, elapsed]))\n",
    "    \n",
    "    print(\"\")\n",
    "    log(\"\")\n",
    "    \n",
    "logging.shutdown()"
   ]
  }
 ],
 "metadata": {
  "kernelspec": {
   "display_name": "Python 3",
   "language": "python",
   "name": "python3"
  },
  "language_info": {
   "codemirror_mode": {
    "name": "ipython",
    "version": 3
   },
   "file_extension": ".py",
   "mimetype": "text/x-python",
   "name": "python",
   "nbconvert_exporter": "python",
   "pygments_lexer": "ipython3",
   "version": "3.6.5"
  }
 },
 "nbformat": 4,
 "nbformat_minor": 2
}
