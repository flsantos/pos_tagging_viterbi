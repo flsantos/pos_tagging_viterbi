{
 "cells": [
  {
   "cell_type": "markdown",
   "metadata": {},
   "source": [
    "### Imports"
   ]
  },
  {
   "cell_type": "code",
   "execution_count": 1,
   "metadata": {},
   "outputs": [],
   "source": [
    "import numpy as np\n",
    "import pandas as pd\n",
    "import io\n",
    "import re\n",
    "from collections import Counter\n",
    "import gc"
   ]
  },
  {
   "cell_type": "markdown",
   "metadata": {},
   "source": [
    "### Carregar base original"
   ]
  },
  {
   "cell_type": "code",
   "execution_count": 2,
   "metadata": {},
   "outputs": [],
   "source": [
    "file = io.open(\"CETENFolha-1.0_jan2014.cg\", mode=\"r\", encoding=\"utf-8\")"
   ]
  },
  {
   "cell_type": "code",
   "execution_count": 3,
   "metadata": {
    "scrolled": false
   },
   "outputs": [],
   "source": [
    "file.seek(0)\n",
    "corpus = file.read()"
   ]
  },
  {
   "cell_type": "markdown",
   "metadata": {},
   "source": [
    "### Preprocessamento do corpus"
   ]
  },
  {
   "cell_type": "code",
   "execution_count": 4,
   "metadata": {},
   "outputs": [],
   "source": [
    "def clean_and_split(corpus):\n",
    "    aux = re.sub('<.*?>', '', corpus)\n",
    "    aux = re.sub('<.*?>', '', aux)\n",
    "    aux = re.sub('\\[.*?\\]', '', aux)\n",
    "    aux = re.sub('  +', ' ', aux)\n",
    "    aux = re.sub('\\n\\n+','\\n\\n', aux)\n",
    "    return aux.split(\"\\n\\n\")\n",
    "    \n",
    "sentences = clean_and_split(corpus)"
   ]
  },
  {
   "cell_type": "code",
   "execution_count": 5,
   "metadata": {},
   "outputs": [],
   "source": [
    "del corpus"
   ]
  },
  {
   "cell_type": "markdown",
   "metadata": {},
   "source": [
    "### Seleção das tuplas (palavra, etiqueta)"
   ]
  },
  {
   "cell_type": "code",
   "execution_count": 10,
   "metadata": {},
   "outputs": [],
   "source": [
    "PUNCT_TAG = \"__PUNCT__\""
   ]
  },
  {
   "cell_type": "code",
   "execution_count": 13,
   "metadata": {},
   "outputs": [],
   "source": [
    "phrases = [[\n",
    "        (l.split(\"\\t\")[0].lower().strip() if len(l.split(\"\\t\")) > 1 else l.split(\" \")[0],\n",
    "        l.split(\"\\t\")[1].split(\" \")[1] if len(l.split(\"\\t\")) > 1 else PUNCT_TAG)\n",
    "        for l in s.split(\"\\n\")] \n",
    "        for s in list(filter(None, sentences))]"
   ]
  },
  {
   "cell_type": "markdown",
   "metadata": {},
   "source": [
    "#### Remove sentenças que possuem etiquetas fora do padrão"
   ]
  },
  {
   "cell_type": "code",
   "execution_count": 15,
   "metadata": {},
   "outputs": [
    {
     "data": {
      "text/plain": [
       "1694570"
      ]
     },
     "execution_count": 15,
     "metadata": {},
     "output_type": "execute_result"
    }
   ],
   "source": [
    "len(phrases)"
   ]
  },
  {
   "cell_type": "code",
   "execution_count": 11,
   "metadata": {
    "collapsed": true
   },
   "outputs": [],
   "source": [
    "### Remove qualquer sentença que possua uma etiqueta que não se encaixe nessa expressão regular\n",
    "#tag_pattern = re.compile(\"^[A-Z]+$|^\\$.*$\")\n",
    "#phrases = (list(filter(lambda s: all(tag_pattern.match(tk[1]) != None for tk in s), phrases)))"
   ]
  },
  {
   "cell_type": "code",
   "execution_count": 18,
   "metadata": {},
   "outputs": [],
   "source": [
    "### Remove qualquer sentença que possua uma etiqueta que não seja uma dessas tags\n",
    "#allowed_tags = ['N','DET','PRP','V','PROP','$,','ADJ','$.','ADV','NUM','KC','$\"','SPEC','PERS','KS','$)','$(','$:','$--','$?','$;',\"$'\",'$!','IN','$...','EC','$pause','$`','$+','$=','PRON','$$','$]','$[','PP','$±','$~','GER','PU','$|','M','$_']\n",
    "allowed_tags = ['N','DET','PRP','V','PROP','ADJ','ADV','NUM','KC','SPEC','PERS','KS','IN','EC','PRON',PUNCT_TAG]\n",
    "phrases = (list(filter(lambda s: all(tk[1] in allowed_tags for tk in s), phrases)))"
   ]
  },
  {
   "cell_type": "code",
   "execution_count": 19,
   "metadata": {},
   "outputs": [
    {
     "data": {
      "text/plain": [
       "1693101"
      ]
     },
     "execution_count": 19,
     "metadata": {},
     "output_type": "execute_result"
    }
   ],
   "source": [
    "len(phrases)"
   ]
  },
  {
   "cell_type": "code",
   "execution_count": 20,
   "metadata": {},
   "outputs": [
    {
     "data": {
      "text/plain": [
       "1469"
      ]
     },
     "execution_count": 20,
     "metadata": {},
     "output_type": "execute_result"
    }
   ],
   "source": [
    "1694570 - 1693101"
   ]
  },
  {
   "cell_type": "markdown",
   "metadata": {},
   "source": [
    "#### =====> Perda de 1469 sentenças"
   ]
  },
  {
   "cell_type": "markdown",
   "metadata": {},
   "source": [
    "### Computar conjunto de etiquetas"
   ]
  },
  {
   "cell_type": "code",
   "execution_count": 21,
   "metadata": {},
   "outputs": [],
   "source": [
    "tags_counter = Counter()\n",
    "for s in phrases:\n",
    "    for tk in s:\n",
    "        tag = tk[1]\n",
    "        if tags_counter[tag]:\n",
    "            tags_counter[tag]=tags_counter[tag]+1\n",
    "        else:\n",
    "            tags_counter[tag] = 1"
   ]
  },
  {
   "cell_type": "code",
   "execution_count": 22,
   "metadata": {},
   "outputs": [
    {
     "data": {
      "text/plain": [
       "[('N', 5325018),\n",
       " ('DET', 4203531),\n",
       " ('PRP', 4095498),\n",
       " ('__PUNCT__', 3936438),\n",
       " ('V', 3361824),\n",
       " ('PROP', 1835949),\n",
       " ('ADJ', 1360182),\n",
       " ('ADV', 1053826),\n",
       " ('NUM', 764485),\n",
       " ('KC', 636563),\n",
       " ('SPEC', 334770),\n",
       " ('PERS', 326286),\n",
       " ('KS', 295857),\n",
       " ('IN', 8289),\n",
       " ('EC', 1695),\n",
       " ('PRON', 83)]"
      ]
     },
     "execution_count": 22,
     "metadata": {},
     "output_type": "execute_result"
    }
   ],
   "source": [
    "tags_counter.most_common()"
   ]
  },
  {
   "cell_type": "markdown",
   "metadata": {},
   "source": [
    "### Computar frequência de etiquetas para cada palavra"
   ]
  },
  {
   "cell_type": "code",
   "execution_count": 23,
   "metadata": {},
   "outputs": [],
   "source": [
    "word_freq = {}\n",
    "for s in phrases:\n",
    "    for tk in s:\n",
    "        if word_freq.get(tk[0]) == None:\n",
    "            word_freq[tk[0]] = Counter()\n",
    "        word_freq[tk[0]][tk[1]] = word_freq[tk[0]][tk[1]] + 1"
   ]
  },
  {
   "cell_type": "code",
   "execution_count": 30,
   "metadata": {},
   "outputs": [
    {
     "data": {
      "text/plain": [
       "450013"
      ]
     },
     "execution_count": 30,
     "metadata": {},
     "output_type": "execute_result"
    }
   ],
   "source": [
    "len(word_freq.keys())"
   ]
  },
  {
   "cell_type": "markdown",
   "metadata": {},
   "source": [
    "### Baseline: Etiqueta por Tag mais frequente"
   ]
  },
  {
   "cell_type": "code",
   "execution_count": 31,
   "metadata": {},
   "outputs": [],
   "source": [
    "corretas = 0\n",
    "totais = 0\n",
    "for s in phrases:\n",
    "    for tk in s:\n",
    "        totais+=1\n",
    "        if tk[1] == word_freq[tk[0]].most_common(1)[0][0]:\n",
    "            corretas+=1"
   ]
  },
  {
   "cell_type": "code",
   "execution_count": 32,
   "metadata": {},
   "outputs": [
    {
     "name": "stdout",
     "output_type": "stream",
     "text": [
      "Acurácia: 26311801/27540294: 95.53928872364253%\n"
     ]
    }
   ],
   "source": [
    "print(\"Acurácia: \"+ str(corretas)+\"/\"+str(totais)+\": \"+str(corretas/totais*100.0)+\"%\")"
   ]
  },
  {
   "cell_type": "markdown",
   "metadata": {
    "collapsed": true
   },
   "source": [
    "### Salva e contagems processadas\n"
   ]
  },
  {
   "cell_type": "code",
   "execution_count": 33,
   "metadata": {},
   "outputs": [],
   "source": [
    "import pickle"
   ]
  },
  {
   "cell_type": "code",
   "execution_count": 35,
   "metadata": {},
   "outputs": [],
   "source": [
    "with open('preprocessed_CETEN_v2.pkl', 'wb') as output:\n",
    "    pickle.dump(phrases, output, pickle.HIGHEST_PROTOCOL)"
   ]
  },
  {
   "cell_type": "code",
   "execution_count": 36,
   "metadata": {},
   "outputs": [],
   "source": [
    "del tags_counter"
   ]
  },
  {
   "cell_type": "code",
   "execution_count": 37,
   "metadata": {},
   "outputs": [],
   "source": [
    "del word_freq"
   ]
  }
 ],
 "metadata": {
  "kernelspec": {
   "display_name": "Python 3",
   "language": "python",
   "name": "python3"
  },
  "language_info": {
   "codemirror_mode": {
    "name": "ipython",
    "version": 3
   },
   "file_extension": ".py",
   "mimetype": "text/x-python",
   "name": "python",
   "nbconvert_exporter": "python",
   "pygments_lexer": "ipython3",
   "version": "3.7.1"
  }
 },
 "nbformat": 4,
 "nbformat_minor": 2
}
